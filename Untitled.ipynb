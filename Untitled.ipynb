{
 "cells": [
  {
   "cell_type": "markdown",
   "id": "38f47aea-6494-4d0b-8b5c-2214f38f8e13",
   "metadata": {},
   "source": [
    "1512. Number of Good Pairs\n",
    "\n",
    "Given an array of integers nums, return the number of good pairs.\n",
    "\n",
    "A pair (i, j) is called good if nums[i] == nums[j] and i < j."
   ]
  },
  {
   "cell_type": "code",
   "execution_count": 2,
   "id": "666e2c48-8a5a-4280-8615-0ff256e87bdc",
   "metadata": {},
   "outputs": [],
   "source": [
    "class Solution(object):\n",
    "    def numIdenticalPairs(self, nums):\n",
    "        \"\"\"\n",
    "        :type nums: List[int]\n",
    "        :rtype: int\n",
    "        \"\"\"\n",
    "        pairs = 0\n",
    "        for i in range(len(nums)):\n",
    "            count = 0\n",
    "            for j in range(i+1, len(nums)):\n",
    "\n",
    "                if nums[i] == nums[j]:\n",
    "\n",
    "                    count = count + 1\n",
    "            pairs += count\n",
    "        return pairs"
   ]
  },
  {
   "cell_type": "markdown",
   "id": "0e27ff3a-4c99-4a13-9387-db5adc20f7f1",
   "metadata": {},
   "source": [
    "2798. Number of Employees Who Met the Target\n",
    "\n",
    "There are n employees in a company, numbered from 0 to n - 1. Each employee i has worked for hours[i] hours in the company.\n",
    "\n",
    "The company requires each employee to work for at least target hours.\n",
    "\n",
    "You are given a 0-indexed array of non-negative integers hours of length n and a non-negative integer target.\n",
    "\n",
    "Return the integer denoting the number of employees who worked at least target hours."
   ]
  },
  {
   "cell_type": "code",
   "execution_count": 3,
   "id": "22afc061-4676-4f5e-8fc9-0893841ddfed",
   "metadata": {},
   "outputs": [],
   "source": [
    "class Solution(object):\n",
    "    def numberOfEmployeesWhoMetTarget(self, hours, target):\n",
    "        \"\"\"\n",
    "        :type hours: List[int]\n",
    "        :type target: int\n",
    "        :rtype: int\n",
    "        \"\"\"\n",
    "        min_work = 0\n",
    "        for hour in hours:\n",
    "            if hour >= target:\n",
    "                min_work = min_work + 1\n",
    "        return min_work"
   ]
  },
  {
   "cell_type": "code",
   "execution_count": 24,
   "id": "d72e5cd2-ef84-4e74-852d-eccf525d6ead",
   "metadata": {
    "editable": true,
    "slideshow": {
     "slide_type": ""
    },
    "tags": []
   },
   "outputs": [
    {
     "name": "stdout",
     "output_type": "stream",
     "text": [
      "['A', 'B', 'D']\n",
      "['A', 'B', 'D']\n",
      "['A', 'C', 'D']\n",
      "A\n",
      "B\n",
      "C\n",
      "D\n"
     ]
    }
   ],
   "source": [
    "# list remove\n",
    "\n",
    "list = [\"A\",\"B\",\"C\",\"D\"]\n",
    "list.remove(\"C\")\n",
    "print(list)\n",
    "\n",
    "# pop\n",
    "list = [\"A\",\"B\",\"C\",\"D\"]\n",
    "list.pop(2)\n",
    "print(list)\n",
    "\n",
    "# del\n",
    "list = [\"A\",\"B\",\"C\",\"D\"]\n",
    "del list[1]\n",
    "print(list)\n",
    "\n",
    "# loop in list\n",
    "list = [\"A\",\"B\",\"C\",\"D\"]\n",
    "for i in range(len(list)):\n",
    "    \n",
    "    print(list[i])"
   ]
  },
  {
   "cell_type": "code",
   "execution_count": null,
   "id": "c55c4ad2-f225-41fc-a111-8dca7c082021",
   "metadata": {},
   "outputs": [],
   "source": [
    "MyList = [[22, 14, 16], [\"Joe\", \"Sam\", \"Abel\"], [True, False, True]]\n",
    "\n",
    "#printing a sublist\n",
    "print(MyList[0])\n",
    "[22, 14, 16]\n",
    "\n",
    "# printing an element within a sublist\n",
    "print(MyList[0][1]) #output: 14\n",
    "\n",
    "# modifying an element in a sublist\n",
    "MyList[0][1] = 20\n",
    "print(MyList) #output:[[22, 20, 16], [\"Joe\", \"Sam\", \"Abel\"], [True, False, True]]"
   ]
  }
 ],
 "metadata": {
  "kernelspec": {
   "display_name": "Python 3 (ipykernel)",
   "language": "python",
   "name": "python3"
  },
  "language_info": {
   "codemirror_mode": {
    "name": "ipython",
    "version": 3
   },
   "file_extension": ".py",
   "mimetype": "text/x-python",
   "name": "python",
   "nbconvert_exporter": "python",
   "pygments_lexer": "ipython3",
   "version": "3.12.1"
  }
 },
 "nbformat": 4,
 "nbformat_minor": 5
}
