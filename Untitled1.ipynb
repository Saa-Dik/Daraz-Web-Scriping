{
 "cells": [
  {
   "cell_type": "markdown",
   "id": "f9ebddee-7932-4596-820d-c68c57727008",
   "metadata": {},
   "source": [
    "Python"
   ]
  },
  {
   "cell_type": "code",
   "execution_count": 15,
   "id": "9836c60b-a4cb-4371-809b-062faf13dbc2",
   "metadata": {},
   "outputs": [
    {
     "name": "stdin",
     "output_type": "stream",
     "text": [
      "Enter the Number 5\n",
      " 5\n"
     ]
    },
    {
     "name": "stdout",
     "output_type": "stream",
     "text": [
      "[5]\n"
     ]
    }
   ],
   "source": [
    "if __name__ == '__main__':\n",
    "    n = int(input())\n",
    "    arr = list(map(int, input().split()))\n",
    "    array_1=set(arr)\n",
    "    array_2=sorted(array_1)\n",
    "    print(array_2[-2])\n"
   ]
  },
  {
   "cell_type": "code",
   "execution_count": 17,
   "id": "8b47ff16-72aa-4076-ae00-c0d53a624622",
   "metadata": {},
   "outputs": [
    {
     "name": "stdout",
     "output_type": "stream",
     "text": [
      "[0, 1, 2, 3, 4]\n"
     ]
    }
   ],
   "source": [
    "\n",
    "matrix = []\n",
    "for i in range(5):\n",
    "    # Append an empty sublist inside the list\n",
    "    matrix.append([])\n",
    "    for j in range(5):\n",
    "        matrix[i].append(j)\n",
    "print(matrix)"
   ]
  },
  {
   "cell_type": "code",
   "execution_count": 14,
   "id": "da9339c4-e5fa-4a04-ae35-9a96bae5950b",
   "metadata": {},
   "outputs": [
    {
     "name": "stdout",
     "output_type": "stream",
     "text": [
      "None\n"
     ]
    }
   ],
   "source": [
    "# list\n",
    "list = [\"A\",\"B\",\"C\",\"D\",\"E\",\"F\",\"G\"]\n",
    "print(list.remove(\"A\"))"
   ]
  },
  {
   "cell_type": "code",
   "execution_count": 3,
   "id": "065f0ffb-9f37-4454-af34-f57135af8963",
   "metadata": {},
   "outputs": [
    {
     "name": "stdout",
     "output_type": "stream",
     "text": [
      "['banana', 'kiwi', 'mango', 'orange', 'pineapple']\n",
      "['banana', 'kiwi', 'mango', 'orange', 'pineapple']\n"
     ]
    }
   ],
   "source": [
    "# sort\n",
    "list = [\"orange\", \"mango\", \"kiwi\", \"pineapple\", \"banana\"]\n",
    "list.sort()\n",
    "print(list)\n",
    "\n",
    "list = [\"orange\", \"mango\", \"kiwi\", \"pineapple\", \"banana\"]\n",
    "list.sort(reverse = False)\n",
    "print(list)"
   ]
  },
  {
   "cell_type": "markdown",
   "id": "9c761f55-1231-4205-8f4d-2ef2d676e33d",
   "metadata": {},
   "source": [
    "<!-- copy list -->\n",
    "thislist = [\"apple\", \"banana\", \"cherry\"]\n",
    "mylist = thislist.copy()\n",
    "print(mylist)"
   ]
  },
  {
   "cell_type": "code",
   "execution_count": 9,
   "id": "8f9b3a68-fa02-47eb-a424-d966edb2d90c",
   "metadata": {},
   "outputs": [
    {
     "ename": "TypeError",
     "evalue": "list.extend() takes exactly one argument (0 given)",
     "output_type": "error",
     "traceback": [
      "\u001b[1;31m---------------------------------------------------------------------------\u001b[0m",
      "\u001b[1;31mTypeError\u001b[0m                                 Traceback (most recent call last)",
      "Cell \u001b[1;32mIn[9], line 3\u001b[0m\n\u001b[0;32m      1\u001b[0m \u001b[38;5;66;03m# copy list\u001b[39;00m\n\u001b[0;32m      2\u001b[0m mylist \u001b[38;5;241m=\u001b[39m [\u001b[38;5;124m\"\u001b[39m\u001b[38;5;124mapple\u001b[39m\u001b[38;5;124m\"\u001b[39m, \u001b[38;5;124m\"\u001b[39m\u001b[38;5;124mbanana\u001b[39m\u001b[38;5;124m\"\u001b[39m, \u001b[38;5;124m\"\u001b[39m\u001b[38;5;124mcherry\u001b[39m\u001b[38;5;124m\"\u001b[39m]\n\u001b[1;32m----> 3\u001b[0m \u001b[43mmylist\u001b[49m\u001b[38;5;241;43m.\u001b[39;49m\u001b[43mextend\u001b[49m\u001b[43m(\u001b[49m\u001b[43m)\u001b[49m\n\u001b[0;32m      4\u001b[0m \u001b[38;5;28mprint\u001b[39m(mylist)\n",
      "\u001b[1;31mTypeError\u001b[0m: list.extend() takes exactly one argument (0 given)"
     ]
    }
   ],
   "source": [
    "# copy list\n",
    "mylist = [\"apple\", \"banana\", \"cherry\"]\n",
    "mylist.extend()\n",
    "print(mylist)"
   ]
  },
  {
   "cell_type": "code",
   "execution_count": 7,
   "id": "60d9fd79-9a80-42d1-8b68-20bb2479c092",
   "metadata": {},
   "outputs": [
    {
     "name": "stdout",
     "output_type": "stream",
     "text": [
      "['a', 'b', 'c', 1, 2, 3]\n"
     ]
    }
   ],
   "source": [
    "list1 = [\"a\", \"b\" , \"c\"]\n",
    "list2 = [1, 2, 3]\n",
    "\n",
    "for x in list2:\n",
    "  list1.append(x)\n",
    "\n",
    "print(list1)"
   ]
  },
  {
   "cell_type": "code",
   "execution_count": 11,
   "id": "96b10942-1a93-4e43-82ff-4103e40ba092",
   "metadata": {},
   "outputs": [
    {
     "name": "stdout",
     "output_type": "stream",
     "text": [
      "['A', 'B', 'C', 'D', 'E', 'F', 'G', [1, 2, 3, 4, 5, 6, 7]]\n"
     ]
    }
   ],
   "source": [
    "# nasted_list\n",
    "list = [\"A\",\"B\",\"C\",\"D\",\"E\",\"F\",\"G\",[1,2,3,4,5,6,7]]\n",
    "print(list)\n"
   ]
  },
  {
   "cell_type": "code",
   "execution_count": 10,
   "id": "88e3d3fa-1b86-4e3d-b7c9-d8323a3c64d7",
   "metadata": {},
   "outputs": [
    {
     "name": "stdout",
     "output_type": "stream",
     "text": [
      "A\n"
     ]
    }
   ],
   "source": [
    "# access to nasted_list\n",
    "list = [\"A\",\"B\",\"C\",\"D\",\"E\",\"F\",\"G\",[1,2,3,4,5,6,7]]\n",
    "print(list[0])"
   ]
  },
  {
   "cell_type": "code",
   "execution_count": null,
   "id": "f487c04c-0fa9-44e6-b3e3-783a34bf6d4a",
   "metadata": {},
   "outputs": [],
   "source": []
  }
 ],
 "metadata": {
  "kernelspec": {
   "display_name": "Python 3 (ipykernel)",
   "language": "python",
   "name": "python3"
  },
  "language_info": {
   "codemirror_mode": {
    "name": "ipython",
    "version": 3
   },
   "file_extension": ".py",
   "mimetype": "text/x-python",
   "name": "python",
   "nbconvert_exporter": "python",
   "pygments_lexer": "ipython3",
   "version": "3.12.1"
  }
 },
 "nbformat": 4,
 "nbformat_minor": 5
}
